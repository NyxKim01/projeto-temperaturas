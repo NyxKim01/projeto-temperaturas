{
 "cells": [
  {
   "cell_type": "markdown",
   "id": "309ea5e5",
   "metadata": {},
   "source": [
    "# **1. Importar Drive**"
   ]
  }
 ],
 "metadata": {
  "kernelspec": {
   "display_name": "Python 3",
   "language": "python",
   "name": "python3"
  },
  "language_info": {
   "name": "python",
   "version": "3.10.6"
  }
 },
 "nbformat": 4,
 "nbformat_minor": 5
}
