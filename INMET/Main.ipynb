{
 "cells": [
  {
   "cell_type": "markdown",
   "id": "309ea5e5",
   "metadata": {},
   "source": [
    "# **1. Limpeza dos dados**"
   ]
  },
  {
   "cell_type": "code",
   "execution_count": 1,
   "id": "eba9afe9",
   "metadata": {},
   "outputs": [],
   "source": [
    "import os\n",
    "from branch_1 import limpar\n",
    "\n",
    "pasta = \"C:/Users/nicho/Taverna/projeto-temperaturas/INMET/dados\"\n",
    "pasta_limpa = \"C:/Users/nicho/Taverna/projeto-temperaturas/INMET/dados_limpos\"\n",
    "os.makedirs(pasta_limpa, exist_ok=True)\n",
    "for ano in os.listdir(pasta):\n",
    "    caminho = os.path.join(pasta, ano)\n",
    "    df_limpo = limpar(caminho)\n",
    "    df_limpo.to_csv(os.path.join(pasta_limpa, ano.replace(\".CSV\", \"_limpo.csv\")), index=False)"
   ]
  }
 ],
 "metadata": {
  "kernelspec": {
   "display_name": "Python 3",
   "language": "python",
   "name": "python3"
  },
  "language_info": {
   "codemirror_mode": {
    "name": "ipython",
    "version": 3
   },
   "file_extension": ".py",
   "mimetype": "text/x-python",
   "name": "python",
   "nbconvert_exporter": "python",
   "pygments_lexer": "ipython3",
   "version": "3.11.9"
  }
 },
 "nbformat": 4,
 "nbformat_minor": 5
}
